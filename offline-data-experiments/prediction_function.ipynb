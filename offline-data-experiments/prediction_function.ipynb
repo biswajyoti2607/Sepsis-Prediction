{
 "cells": [
  {
   "cell_type": "markdown",
   "metadata": {},
   "source": [
    "Notebook to test the scoring function for Unscrambl with all possible features\n",
    "----------------------------------------------------------------------------------"
   ]
  },
  {
   "cell_type": "markdown",
   "metadata": {},
   "source": [
    "<h4>Prediction Function:</h4>"
   ]
  },
  {
   "cell_type": "code",
   "execution_count": 51,
   "metadata": {},
   "outputs": [],
   "source": [
    "from sklearn.externals import joblib\n",
    "import numpy as np\n",
    "import pickle\n",
    "import math"
   ]
  },
  {
   "cell_type": "code",
   "execution_count": 67,
   "metadata": {},
   "outputs": [
    {
     "name": "stdout",
     "output_type": "stream",
     "text": [
      "0.213203239267\n"
     ]
    },
    {
     "name": "stderr",
     "output_type": "stream",
     "text": [
      "/Users/Adamlieberman/anaconda/envs/cse6240hw1/lib/python3.5/site-packages/sklearn/utils/validation.py:395: DeprecationWarning: Passing 1d arrays as data is deprecated in 0.17 and will raise ValueError in 0.19. Reshape your data either using X.reshape(-1, 1) if your data has a single feature or X.reshape(1, -1) if it contains a single sample.\n",
      "  DeprecationWarning)\n"
     ]
    }
   ],
   "source": [
    "def predict(tup):\n",
    "    #tup is in form (id, rate)\n",
    "    \n",
    "    #Dictionary for lookup of id\n",
    "    d = pickle.load( open( \"dict_items.p\", \"rb\" ) )\n",
    "    indx = d[tup[0]]\n",
    "    \n",
    "    #Handle NaN\n",
    "    if math.isnan(tup[1]): \n",
    "        tup = (tup[0],0)\n",
    "        \n",
    "    #Load random forest model \n",
    "    rf = joblib.load('random_forest.pkl')\n",
    "    \n",
    "    #Create query vector \n",
    "    arr = np.zeros((1,193))[0]\n",
    "    arr[indx] = tup[1]\n",
    "    \n",
    "    #return prediction as probability of sepsis in 8 hours\n",
    "    preds = rf.predict_proba(arr)[:,1]\n",
    "    return preds[0]\n",
    "\n",
    "\n",
    "id = 225843\n",
    "rate = 43\n",
    "\n",
    "tup = (id,rate)\n",
    "pred = predict(tup)\n",
    "print(pred)"
   ]
  }
 ],
 "metadata": {
  "kernelspec": {
   "display_name": "Python 2",
   "language": "python",
   "name": "python2"
  },
  "language_info": {
   "codemirror_mode": {
    "name": "ipython",
    "version": 2
   },
   "file_extension": ".py",
   "mimetype": "text/x-python",
   "name": "python",
   "nbconvert_exporter": "python",
   "pygments_lexer": "ipython2",
   "version": "2.7.13"
  }
 },
 "nbformat": 4,
 "nbformat_minor": 2
}
