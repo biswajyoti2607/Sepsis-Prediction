{
 "cells": [
  {
   "cell_type": "markdown",
   "metadata": {},
   "source": [
    "Notebook to generate prediction model using all possible features\n",
    "--------------------------------------------------------------------\n",
    "<br>\n",
    "193 Item IDs used for prediction"
   ]
  },
  {
   "cell_type": "code",
   "execution_count": 1,
   "metadata": {
    "collapsed": true
   },
   "outputs": [],
   "source": [
    "import sklearn \n",
    "import numpy as np \n",
    "import pandas as pd \n",
    "from datetime import datetime"
   ]
  },
  {
   "cell_type": "code",
   "execution_count": 2,
   "metadata": {},
   "outputs": [
    {
     "name": "stderr",
     "output_type": "stream",
     "text": [
      "/Users/Adamlieberman/anaconda/envs/cse6240hw1/lib/python3.5/site-packages/IPython/core/interactiveshell.py:2821: DtypeWarning: Columns (8,10,13,14) have mixed types. Specify dtype option on import or set low_memory=False.\n",
      "  if self.run_code(code, result):\n"
     ]
    }
   ],
   "source": [
    "def load_data(path1,path2,path3,path4):\n",
    "    df_icu_stays = pd.read_csv(path1)\n",
    "    df_sepsis_occurance = pd.read_csv(path2)\n",
    "    df_events = pd.read_csv(path3)\n",
    "    df_chart_events = pd.read_csv(path4)\n",
    "    return df_icu_stays, df_sepsis_occurance, df_events, df_chart_events\n",
    "\n",
    "path1 = 'm100s2/ICUSTAYS.csv'\n",
    "path2 = 'm100s2/sample_ids_2.csv'\n",
    "path3 = 'm100s2/sample_inputevents_mv_2.csv'\n",
    "path4 = \"m100s2/sample_chartevents_2.csv\"\n",
    "\n",
    "df_icu_stays, df_sepsis_occurance, df_events, df_chart_events = load_data(path1,path2,path3,path4)"
   ]
  },
  {
   "cell_type": "code",
   "execution_count": null,
   "metadata": {},
   "outputs": [
    {
     "name": "stdout",
     "output_type": "stream",
     "text": [
      "(110089, 31) (100, 4) (61532, 12) (3168992, 15)\n"
     ]
    }
   ],
   "source": [
    "print(df_events.shape, df_sepsis_occurance.shape, df_icu_stays.shape, df_chart_events.shape)"
   ]
  },
  {
   "cell_type": "code",
   "execution_count": null,
   "metadata": {},
   "outputs": [],
   "source": [
    "def join_data(df_events,df_sepsis_occurance, df_chart_events): \n",
    "    df = pd.merge(df_events, df_sepsis_occurance, on='hadm_id', how='inner')\n",
    "    df1 = pd.merge(df, df_chart_events, on='hadm_id', how='inner')\n",
    "    return df1\n",
    "\n",
    "df_joined = join_data(df_events, df_sepsis_occurance, df_chart_events)"
   ]
  },
  {
   "cell_type": "code",
   "execution_count": null,
   "metadata": {},
   "outputs": [],
   "source": [
    "all_vals = df_joined['itemid_y'].values\n",
    "ids = [220052, 22045, 224690, 223761, 220277,  227013]\n",
    "for i in ids:\n",
    "    print(len(all_vals[all_vals == i]))"
   ]
  },
  {
   "cell_type": "code",
   "execution_count": 6,
   "metadata": {
    "collapsed": true
   },
   "outputs": [],
   "source": [
    "#Convert columns to datetime objects \n",
    "df_joined['sepsist0'] = df_joined['sepsist0'].apply(lambda i: datetime.strptime(i,'%Y-%m-%d %H:%M:%S'))\n",
    "df_joined['starttime'] = df_joined['starttime'].apply(lambda i: datetime.strptime(i,'%Y-%m-%d %H:%M:%S'))"
   ]
  },
  {
   "cell_type": "code",
   "execution_count": 7,
   "metadata": {
    "collapsed": true
   },
   "outputs": [],
   "source": [
    "#Create time difference in hours column between sepsis t0 and starttime\n",
    "df_joined['time_diff'] = (df_joined['sepsist0'] - df_joined['starttime'])\n",
    "df_joined['time_diff'] = df_joined['time_diff'].apply(lambda i: i.seconds/3600)"
   ]
  },
  {
   "cell_type": "code",
   "execution_count": 8,
   "metadata": {
    "scrolled": true
   },
   "outputs": [
    {
     "name": "stdout",
     "output_type": "stream",
     "text": [
      "row_id                                               6866\n",
      "subject_id_x                                        29983\n",
      "hadm_id                                            135689\n",
      "icustay_id_x                                       224079\n",
      "starttime                             2177-01-06 10:31:00\n",
      "endtime                               2177-01-06 13:03:00\n",
      "itemid                                             222168\n",
      "amount                                            924.574\n",
      "amountuom                                              mg\n",
      "rate                                              50.0636\n",
      "rateuom                                        mcg/kg/min\n",
      "storetime                             2177-01-06 13:29:00\n",
      "cgid                                                17525\n",
      "orderid                                            155962\n",
      "linkorderid                                       5895253\n",
      "ordercategoryname                                01-Drips\n",
      "secondaryordercategoryname       02-Fluids (Crystalloids)\n",
      "ordercomponenttypedescription        Main order parameter\n",
      "ordercategorydescription                   Continuous Med\n",
      "patientweight                                       121.5\n",
      "totalamount                                           100\n",
      "totalamountuom                                         ml\n",
      "isopenbag                                               0\n",
      "continueinnextdept                                      0\n",
      "cancelreason                                            1\n",
      "statusdescription                               Rewritten\n",
      "comments_editedby                                     NaN\n",
      "comments_canceledby                                    RN\n",
      "comments_date                         2177-01-06 13:31:00\n",
      "originalamount                                    924.574\n",
      "originalrate                                           50\n",
      "subject_id_y                                        29983\n",
      "icustay_id_y                                       224079\n",
      "sepsist0                              2177-01-05 00:00:00\n",
      "time_diff                                         13.4833\n",
      "Name: 12, dtype: object\n"
     ]
    }
   ],
   "source": [
    "print(df_joined.iloc[12])"
   ]
  },
  {
   "cell_type": "markdown",
   "metadata": {},
   "source": [
    "# Set Window Size"
   ]
  },
  {
   "cell_type": "code",
   "execution_count": 9,
   "metadata": {
    "collapsed": true
   },
   "outputs": [],
   "source": [
    "hours = 5\n",
    "#1 if developed sepsis with 8 hours else 0\n",
    "df_joined['curr_sepsis'] = df_joined['time_diff'].apply(lambda i: 1 if i <= hours else 0)"
   ]
  },
  {
   "cell_type": "code",
   "execution_count": 10,
   "metadata": {},
   "outputs": [
    {
     "name": "stdout",
     "output_type": "stream",
     "text": [
      "26420\n",
      "93667\n"
     ]
    }
   ],
   "source": [
    "#Number of events with sepsis and without sepsis\n",
    "print(len(df_joined['curr_sepsis'][df_joined['curr_sepsis'] == 1].values))\n",
    "print(len(df_joined['curr_sepsis'][df_joined['curr_sepsis'] == 0].values))"
   ]
  },
  {
   "cell_type": "markdown",
   "metadata": {},
   "source": [
    "# Feature Selection"
   ]
  },
  {
   "cell_type": "code",
   "execution_count": 13,
   "metadata": {},
   "outputs": [],
   "source": [
    "#Here we select our features and drop NaNs\n",
    "def filter_features(df,features,pred_label):\n",
    "    all_feats = features+pred_label\n",
    "    new_df = df[all_feats]\n",
    "    new_df = new_df.dropna(axis=0)\n",
    "    new_x = new_df[features]\n",
    "    new_y = new_df[pred_label]\n",
    "    return new_x, new_y \n",
    "\n",
    "features = ['amount','rate','patientweight','totalamount','originalamount','originalrate']\n",
    "pred_label = ['curr_sepsis']\n",
    "filtered_x, filtered_y = filter_features(df_joined,features,pred_label)"
   ]
  },
  {
   "cell_type": "markdown",
   "metadata": {},
   "source": [
    "<center><h4>Rate Feature</h4></center>"
   ]
  },
  {
   "cell_type": "code",
   "execution_count": 11,
   "metadata": {},
   "outputs": [],
   "source": [
    "#Creating the sparse rate feature vectors\n",
    "all_items = df_joined['itemid'].values\n",
    "all_rates = df_joined['rate'].values\n",
    "all_y = df_joined['curr_sepsis']\n",
    "item_ids = list(set(df_joined['itemid'].values)) \n",
    "remap_items = range(len(item_ids))\n",
    "dict_items = dict(zip(item_ids,remap_items))\n",
    "item_ids = list(set(df_joined['itemid'].values)) \n",
    "item_id_feature = np.zeros((df_joined.shape[0],len(item_ids)))\n",
    "x = []\n",
    "y = []\n",
    "for i in range(all_items.shape[0]): \n",
    "    val = all_items[i]\n",
    "    rate = all_rates[i]\n",
    "    remap_val = dict_items[val]\n",
    "    z = np.zeros((1,len(item_ids)))[0]\n",
    "    z[remap_val] = rate\n",
    "    x.append(z)\n",
    "    y.append(all_y[i])\n",
    "rate_feat_x = np.array(x)\n",
    "y = np.array(y)\n",
    "\n",
    "#Removing rows with NaNs\n",
    "nan_index = np.argwhere(np.isnan(rate_feat_x))\n",
    "nan_rows = []\n",
    "for i in nan_index: \n",
    "    nan_rows.append(i[0])\n",
    "rate_feat_x = np.delete(rate_feat_x,nan_rows,0)\n",
    "rate_feat_y = np.delete(y,nan_rows,0)"
   ]
  },
  {
   "cell_type": "code",
   "execution_count": 14,
   "metadata": {},
   "outputs": [],
   "source": [
    "#Create train/test split\n",
    "from sklearn.cross_validation import train_test_split\n",
    "xtrain, xtest, ytrain, ytest = train_test_split(filtered_x, filtered_y, test_size=0.20)\n",
    "\n",
    "#Train/Test split for rate sparse feature vector\n",
    "Rxtrain, Rxtest, Rytrain, Rytest = train_test_split(rate_feat_x, rate_feat_y, test_size=0.20)"
   ]
  },
  {
   "cell_type": "markdown",
   "metadata": {},
   "source": [
    "<center><h4>Building A Random Forest Model</h4></center>"
   ]
  },
  {
   "cell_type": "code",
   "execution_count": 12,
   "metadata": {},
   "outputs": [
    {
     "name": "stderr",
     "output_type": "stream",
     "text": [
      "/Users/Adamlieberman/anaconda/envs/cse6240hw1/lib/python3.5/site-packages/ipykernel/__main__.py:4: DataConversionWarning: A column-vector y was passed when a 1d array was expected. Please change the shape of y to (n_samples,), for example using ravel().\n"
     ]
    }
   ],
   "source": [
    "#Create Random Forest Model \n",
    "from sklearn.ensemble import RandomForestClassifier\n",
    "rf = RandomForestClassifier(n_estimators= 25, max_depth= None,random_state= 11 )\n",
    "rf.fit(xtrain, ytrain)\n",
    "prediction = rf.predict(xtest)"
   ]
  },
  {
   "cell_type": "code",
   "execution_count": 13,
   "metadata": {},
   "outputs": [
    {
     "name": "stdout",
     "output_type": "stream",
     "text": [
      "0.177361608372\n"
     ]
    }
   ],
   "source": [
    "#Mean Squared Error of Random Forest\n",
    "from sklearn.metrics import mean_squared_error\n",
    "print(mean_squared_error(ytest,prediction))"
   ]
  },
  {
   "cell_type": "code",
   "execution_count": 14,
   "metadata": {},
   "outputs": [
    {
     "name": "stdout",
     "output_type": "stream",
     "text": [
      "0.822638391628\n"
     ]
    }
   ],
   "source": [
    "#Accuracy of Random Forest\n",
    "from sklearn.metrics import accuracy_score \n",
    "print(accuracy_score(ytest,prediction))"
   ]
  },
  {
   "cell_type": "code",
   "execution_count": 15,
   "metadata": {
    "collapsed": true
   },
   "outputs": [],
   "source": [
    "from sklearn.externals import joblib\n",
    "# now you can save it to a file\n",
    "joblib.dump(rf, 'decision_tree.pkl') \n",
    "# and later you can load it\n",
    "rf = joblib.load('decision_tree.pkl')"
   ]
  },
  {
   "cell_type": "markdown",
   "metadata": {},
   "source": [
    "<h4>Rate Sparse Feature:</h4>"
   ]
  },
  {
   "cell_type": "code",
   "execution_count": 124,
   "metadata": {},
   "outputs": [
    {
     "name": "stdout",
     "output_type": "stream",
     "text": [
      "0.767419443679\n"
     ]
    }
   ],
   "source": [
    "rf = RandomForestClassifier(n_estimators= 25, max_depth= None,random_state= 11 )\n",
    "rf.fit(Rxtrain, Rytrain)\n",
    "Rprediction = rf.predict(Rxtest)\n",
    "print(accuracy_score(Rytest,Rprediction))"
   ]
  },
  {
   "cell_type": "markdown",
   "metadata": {},
   "source": [
    "<center><h4>Building A Logistic Regression Model</h4></center>"
   ]
  },
  {
   "cell_type": "code",
   "execution_count": 17,
   "metadata": {},
   "outputs": [
    {
     "name": "stderr",
     "output_type": "stream",
     "text": [
      "/Users/Adamlieberman/anaconda/envs/cse6240hw1/lib/python3.5/site-packages/sklearn/utils/validation.py:526: DataConversionWarning: A column-vector y was passed when a 1d array was expected. Please change the shape of y to (n_samples, ), for example using ravel().\n",
      "  y = column_or_1d(y, warn=True)\n"
     ]
    }
   ],
   "source": [
    "from sklearn.linear_model import LogisticRegression \n",
    "lr = LogisticRegression(C=10) \n",
    "lr.fit(xtrain, ytrain)\n",
    "predictions = lr.predict(xtest)"
   ]
  },
  {
   "cell_type": "code",
   "execution_count": 18,
   "metadata": {},
   "outputs": [
    {
     "name": "stdout",
     "output_type": "stream",
     "text": [
      "0.216813549986\n",
      "0.783186450014\n"
     ]
    }
   ],
   "source": [
    "print(mean_squared_error(ytest,predictions))\n",
    "print(accuracy_score(ytest,predictions))"
   ]
  },
  {
   "cell_type": "code",
   "execution_count": 19,
   "metadata": {
    "collapsed": true
   },
   "outputs": [],
   "source": [
    "from sklearn.externals import joblib\n",
    "# now you can save it to a file\n",
    "joblib.dump(rf, 'logistic_regression.pkl') \n",
    "# and later you can load it\n",
    "lr = joblib.load('logistic_regression.pkl')"
   ]
  },
  {
   "cell_type": "code",
   "execution_count": null,
   "metadata": {},
   "outputs": [],
   "source": []
  },
  {
   "cell_type": "code",
   "execution_count": null,
   "metadata": {
    "collapsed": true
   },
   "outputs": [],
   "source": []
  }
 ],
 "metadata": {
  "kernelspec": {
   "display_name": "Python 2",
   "language": "python",
   "name": "python2"
  },
  "language_info": {
   "codemirror_mode": {
    "name": "ipython",
    "version": 2
   },
   "file_extension": ".py",
   "mimetype": "text/x-python",
   "name": "python",
   "nbconvert_exporter": "python",
   "pygments_lexer": "ipython2",
   "version": "2.7.13"
  }
 },
 "nbformat": 4,
 "nbformat_minor": 2
}
